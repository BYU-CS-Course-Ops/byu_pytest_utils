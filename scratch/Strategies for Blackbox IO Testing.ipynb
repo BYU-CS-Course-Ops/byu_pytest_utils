{
 "cells": [
  {
   "cell_type": "markdown",
   "id": "bbed45a6",
   "metadata": {},
   "source": [
    "# Strategies for Blackbox IO Testing"
   ]
  },
  {
   "cell_type": "markdown",
   "id": "b0e8b081",
   "metadata": {},
   "source": [
    "The current (2023-12-01) method is too fickle. We have a separate thread monitoring output on the process and sending STDOUT to a queue which is read by the main thread. But we're getting race conditions on the GIL between the two threads leading to non-deterministic behavior.\n",
    "\n",
    "Options:\n",
    "- Python 3.12 `asyncio.subprocess` might work out of the box, but would require that CS 110 use 3.12\n",
    "  - If we split the blockbox-io functionality out of `byu-pytest-utils`, then perhaps just the CS 235 grader can use it (which happens in docker where we have full control over the python version).\n",
    "  - In this case, `byu-pytest-utils` needs to provide arms-length support for dialogs\n",
    "    - `read_dialog(file) -> list[inputs], expected_annotated_output`\n",
    "    - `score_output(expected_annotated_output, observed_output) -> dict[graded region scores]`\n",
    "- Send all output to a file and monitor the file for output\n",
    "  - The 3.12 method may end up just as complicated, so maybe try this first."
   ]
  },
  {
   "cell_type": "markdown",
   "id": "fbd62812",
   "metadata": {},
   "source": [
    "## Writing STDOUT to a buffer instead of a pipe"
   ]
  },
  {
   "cell_type": "markdown",
   "id": "d5f36c3b",
   "metadata": {},
   "source": [
    "### Can subprocesses write to a BytesIO buffer?"
   ]
  },
  {
   "cell_type": "code",
   "execution_count": 1,
   "id": "059e30ed",
   "metadata": {},
   "outputs": [],
   "source": [
    "import subprocess, io"
   ]
  },
  {
   "cell_type": "code",
   "execution_count": 2,
   "id": "cda5a372",
   "metadata": {},
   "outputs": [
    {
     "ename": "UnsupportedOperation",
     "evalue": "fileno",
     "output_type": "error",
     "traceback": [
      "\u001b[0;31m---------------------------------------------------------------------------\u001b[0m",
      "\u001b[0;31mUnsupportedOperation\u001b[0m                      Traceback (most recent call last)",
      "Cell \u001b[0;32mIn[2], line 2\u001b[0m\n\u001b[1;32m      1\u001b[0m buffer \u001b[38;5;241m=\u001b[39m io\u001b[38;5;241m.\u001b[39mBytesIO()\n\u001b[0;32m----> 2\u001b[0m proc \u001b[38;5;241m=\u001b[39m subprocess\u001b[38;5;241m.\u001b[39mPopen(\u001b[38;5;124m'\u001b[39m\u001b[38;5;124mtr a b\u001b[39m\u001b[38;5;124m'\u001b[39m, stdin\u001b[38;5;241m=\u001b[39msubprocess\u001b[38;5;241m.\u001b[39mPIPE, stdout\u001b[38;5;241m=\u001b[39mbuffer, stderr\u001b[38;5;241m=\u001b[39mbuffer)\n",
      "File \u001b[0;32m~/opt/miniconda3/envs/py311/lib/python3.11/subprocess.py:992\u001b[0m, in \u001b[0;36mPopen.__init__\u001b[0;34m(self, args, bufsize, executable, stdin, stdout, stderr, preexec_fn, close_fds, shell, cwd, env, universal_newlines, startupinfo, creationflags, restore_signals, start_new_session, pass_fds, user, group, extra_groups, encoding, errors, text, umask, pipesize, process_group)\u001b[0m\n\u001b[1;32m    973\u001b[0m         \u001b[38;5;28;01mraise\u001b[39;00m \u001b[38;5;167;01mValueError\u001b[39;00m(\u001b[38;5;124mf\u001b[39m\u001b[38;5;124m\"\u001b[39m\u001b[38;5;124mUser ID cannot be negative, got \u001b[39m\u001b[38;5;132;01m{\u001b[39;00muid\u001b[38;5;132;01m}\u001b[39;00m\u001b[38;5;124m\"\u001b[39m)\n\u001b[1;32m    975\u001b[0m \u001b[38;5;66;03m# Input and output objects. The general principle is like\u001b[39;00m\n\u001b[1;32m    976\u001b[0m \u001b[38;5;66;03m# this:\u001b[39;00m\n\u001b[1;32m    977\u001b[0m \u001b[38;5;66;03m#\u001b[39;00m\n\u001b[0;32m   (...)\u001b[0m\n\u001b[1;32m    987\u001b[0m \u001b[38;5;66;03m# are -1 when not using PIPEs. The child objects are -1\u001b[39;00m\n\u001b[1;32m    988\u001b[0m \u001b[38;5;66;03m# when not redirecting.\u001b[39;00m\n\u001b[1;32m    990\u001b[0m (p2cread, p2cwrite,\n\u001b[1;32m    991\u001b[0m  c2pread, c2pwrite,\n\u001b[0;32m--> 992\u001b[0m  errread, errwrite) \u001b[38;5;241m=\u001b[39m \u001b[38;5;28mself\u001b[39m\u001b[38;5;241m.\u001b[39m_get_handles(stdin, stdout, stderr)\n\u001b[1;32m    994\u001b[0m \u001b[38;5;66;03m# From here on, raising exceptions may cause file descriptor leakage\u001b[39;00m\n\u001b[1;32m    995\u001b[0m \n\u001b[1;32m    996\u001b[0m \u001b[38;5;66;03m# We wrap OS handles *before* launching the child, otherwise a\u001b[39;00m\n\u001b[1;32m    997\u001b[0m \u001b[38;5;66;03m# quickly terminating child could make our fds unwrappable\u001b[39;00m\n\u001b[1;32m    998\u001b[0m \u001b[38;5;66;03m# (see #8458).\u001b[39;00m\n\u001b[1;32m   1000\u001b[0m \u001b[38;5;28;01mif\u001b[39;00m _mswindows:\n",
      "File \u001b[0;32m~/opt/miniconda3/envs/py311/lib/python3.11/subprocess.py:1723\u001b[0m, in \u001b[0;36mPopen._get_handles\u001b[0;34m(self, stdin, stdout, stderr)\u001b[0m\n\u001b[1;32m   1720\u001b[0m     c2pwrite \u001b[38;5;241m=\u001b[39m stdout\n\u001b[1;32m   1721\u001b[0m \u001b[38;5;28;01melse\u001b[39;00m:\n\u001b[1;32m   1722\u001b[0m     \u001b[38;5;66;03m# Assuming file-like object\u001b[39;00m\n\u001b[0;32m-> 1723\u001b[0m     c2pwrite \u001b[38;5;241m=\u001b[39m stdout\u001b[38;5;241m.\u001b[39mfileno()\n\u001b[1;32m   1725\u001b[0m \u001b[38;5;28;01mif\u001b[39;00m stderr \u001b[38;5;129;01mis\u001b[39;00m \u001b[38;5;28;01mNone\u001b[39;00m:\n\u001b[1;32m   1726\u001b[0m     \u001b[38;5;28;01mpass\u001b[39;00m\n",
      "\u001b[0;31mUnsupportedOperation\u001b[0m: fileno"
     ]
    }
   ],
   "source": [
    "buffer = io.BytesIO()\n",
    "proc = subprocess.Popen('tr a b', stdin=subprocess.PIPE, stdout=buffer, stderr=buffer)"
   ]
  },
  {
   "cell_type": "markdown",
   "id": "f672bb63",
   "metadata": {},
   "source": [
    "**No**. It looks like it needs to be an actual file."
   ]
  },
  {
   "cell_type": "markdown",
   "id": "438d9f26",
   "metadata": {},
   "source": [
    "### Using a file handle"
   ]
  },
  {
   "cell_type": "code",
   "execution_count": 36,
   "id": "97eefa94",
   "metadata": {},
   "outputs": [],
   "source": [
    "import tempfile\n",
    "import os"
   ]
  },
  {
   "cell_type": "code",
   "execution_count": 13,
   "id": "3190ddd0",
   "metadata": {},
   "outputs": [
    {
     "name": "stdout",
     "output_type": "stream",
     "text": [
      "b''\n",
      "b''\n",
      "b'cbtbbt\\n'\n"
     ]
    },
    {
     "name": "stderr",
     "output_type": "stream",
     "text": [
      "/Users/gbean/opt/miniconda3/envs/py311/lib/python3.11/subprocess.py:1010: RuntimeWarning: line buffering (buffering=1) isn't supported in binary mode, the default buffer size will be used\n",
      "  self.stdin = io.open(p2cwrite, 'wb', bufsize)\n"
     ]
    }
   ],
   "source": [
    "with tempfile.TemporaryFile() as output:\n",
    "    proc = subprocess.Popen('tr a b', shell=True, stdin=subprocess.PIPE, stdout=output, stderr=output)\n",
    "    proc.stdin.write(b'cat')\n",
    "    proc.stdin.flush()\n",
    "    output.flush()\n",
    "    output.seek(0)\n",
    "    print(output.read())\n",
    "    \n",
    "    proc.stdin.write(b'bat\\n')\n",
    "    output.seek(0)\n",
    "    print(output.read())\n",
    "    \n",
    "    proc.stdin.close()\n",
    "    proc.wait()\n",
    "    \n",
    "    output.seek(0)\n",
    "    print(output.read())\n",
    "    "
   ]
  },
  {
   "cell_type": "markdown",
   "id": "296ac705",
   "metadata": {},
   "source": [
    "### Using PIPE"
   ]
  },
  {
   "cell_type": "code",
   "execution_count": 3,
   "id": "0c055925",
   "metadata": {},
   "outputs": [],
   "source": [
    "import os"
   ]
  },
  {
   "cell_type": "code",
   "execution_count": 4,
   "id": "24523022",
   "metadata": {},
   "outputs": [],
   "source": [
    "import time"
   ]
  },
  {
   "cell_type": "code",
   "execution_count": 6,
   "id": "d0c71dbc",
   "metadata": {},
   "outputs": [
    {
     "name": "stdout",
     "output_type": "stream",
     "text": [
      "None\n",
      "None\n",
      "None\n",
      "None\n",
      "None\n",
      "b'cbt\\ncbt\\ncbt\\ncbt\\ncbt\\n'\n"
     ]
    }
   ],
   "source": [
    "proc = subprocess.Popen('tr a b', shell=True, stdin=subprocess.PIPE, stdout=subprocess.PIPE, stderr=subprocess.PIPE)\n",
    "os.set_blocking(proc.stdout.fileno(), False)\n",
    "\n",
    "for _ in range(5):\n",
    "    proc.stdin.write(b'cat\\n')\n",
    "    proc.stdin.flush()\n",
    "\n",
    "    print(proc.stdout.read())\n",
    "\n",
    "proc.stdin.close()\n",
    "proc.wait()\n",
    "print(proc.stdout.read())"
   ]
  },
  {
   "cell_type": "code",
   "execution_count": 25,
   "id": "4e020ae8",
   "metadata": {},
   "outputs": [
    {
     "name": "stdout",
     "output_type": "stream",
     "text": [
      "Overwriting pipe_test.py\n"
     ]
    }
   ],
   "source": [
    "%%file pipe_test.py\n",
    "import os\n",
    "import subprocess\n",
    "\n",
    "proc = subprocess.Popen(['python3', '-c', '[print(input(\"thing: \")) for _ in range(5)]'], \n",
    "                        stdin=subprocess.PIPE, stdout=subprocess.PIPE, stderr=subprocess.PIPE)\n",
    "os.set_blocking(proc.stdout.fileno(), False)\n",
    "\n",
    "for _ in range(5):\n",
    "    proc.stdin.write(b'cat\\n')\n",
    "    proc.stdin.flush()\n",
    "\n",
    "    print(proc.stdout.read1())\n",
    "\n",
    "proc.stdin.close()\n",
    "proc.wait()\n",
    "print(proc.stdout.read())"
   ]
  },
  {
   "cell_type": "code",
   "execution_count": 26,
   "id": "375c9118",
   "metadata": {},
   "outputs": [
    {
     "name": "stdout",
     "output_type": "stream",
     "text": [
      "b''\n",
      "b''\n",
      "b''\n",
      "b''\n",
      "b''\n",
      "b'thing: cat\\nthing: cat\\nthing: cat\\nthing: cat\\nthing: cat\\n'\n"
     ]
    }
   ],
   "source": [
    "! python pipe_test.py"
   ]
  },
  {
   "cell_type": "markdown",
   "id": "0e886647",
   "metadata": {},
   "source": [
    "## Using `asyncio.subprocess`"
   ]
  },
  {
   "cell_type": "code",
   "execution_count": 21,
   "id": "ee3ebb41",
   "metadata": {},
   "outputs": [
    {
     "name": "stdout",
     "output_type": "stream",
     "text": [
      "Overwriting async_test.py\n"
     ]
    }
   ],
   "source": [
    "%%file async_test.py\n",
    "import asyncio\n",
    "\n",
    "\n",
    "async def read(stream):\n",
    "    buffer = []\n",
    "    while True:\n",
    "        try:\n",
    "            token = await asyncio.wait_for(stream.read(1), 1)\n",
    "            if not token:\n",
    "                break\n",
    "            buffer.append(token.decode())\n",
    "        except asyncio.TimeoutError:\n",
    "            break\n",
    "    \n",
    "    return ''.join(buffer)\n",
    "       \n",
    "    \n",
    "async def test():\n",
    "    print('foo')\n",
    "    proc = await asyncio.subprocess.create_subprocess_shell(\n",
    "            \"python -c '[print(input(\\\"thing: \\\")) for _ in range(5)]'\", \n",
    "        stdin=asyncio.subprocess.PIPE, stdout=asyncio.subprocess.PIPE\n",
    "        )\n",
    "    for inp in ['cat', 'bat', 'cow', 'cage', 'foo']:\n",
    "        print(await read(proc.stdout), end='')\n",
    "        proc.stdin.write((inp + '\\n').encode())\n",
    "        print(inp)\n",
    "        await proc.stdin.drain()\n",
    "    \n",
    "    print(await read(proc.stdout), end='')\n",
    "    await proc.wait()\n",
    "\n",
    "    \n",
    "asyncio.run(test())"
   ]
  },
  {
   "cell_type": "code",
   "execution_count": 22,
   "id": "762f6a62",
   "metadata": {},
   "outputs": [
    {
     "name": "stdout",
     "output_type": "stream",
     "text": [
      "foo\n",
      "thing: cat\n",
      "cat\n",
      "thing: bat\n",
      "bat\n",
      "thing: cow\n",
      "cow\n",
      "thing: cage\n",
      "cage\n",
      "thing: foo\n",
      "foo\n"
     ]
    }
   ],
   "source": [
    "!python3 async_test.py"
   ]
  },
  {
   "cell_type": "code",
   "execution_count": null,
   "id": "9983008c",
   "metadata": {},
   "outputs": [],
   "source": []
  }
 ],
 "metadata": {
  "kernelspec": {
   "display_name": "py311",
   "language": "python",
   "name": "py311"
  },
  "language_info": {
   "codemirror_mode": {
    "name": "ipython",
    "version": 3
   },
   "file_extension": ".py",
   "mimetype": "text/x-python",
   "name": "python",
   "nbconvert_exporter": "python",
   "pygments_lexer": "ipython3",
   "version": "3.11.4"
  },
  "toc": {
   "base_numbering": 1,
   "nav_menu": {},
   "number_sections": false,
   "sideBar": true,
   "skip_h1_title": true,
   "title_cell": "Table of Contents",
   "title_sidebar": "Contents",
   "toc_cell": false,
   "toc_position": {
    "height": "calc(100% - 180px)",
    "left": "10px",
    "top": "150px",
    "width": "384px"
   },
   "toc_section_display": true,
   "toc_window_display": true
  }
 },
 "nbformat": 4,
 "nbformat_minor": 5
}
